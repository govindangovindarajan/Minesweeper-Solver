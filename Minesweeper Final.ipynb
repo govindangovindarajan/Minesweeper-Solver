{
 "cells": [
  {
   "cell_type": "code",
   "execution_count": 1,
   "metadata": {},
   "outputs": [],
   "source": [
    "%matplotlib inline\n",
    "import matplotlib.pyplot as plt\n",
    "import matplotlib.image as mpimg\n",
    "import numpy as np\n",
    "from random import randint\n",
    "import collections"
   ]
  },
  {
   "cell_type": "code",
   "execution_count": 2,
   "metadata": {},
   "outputs": [],
   "source": [
    "def PopulateBoard(n,m,num_mines,initclickx=-1,initclicky=-1,radiussafe = 3):\n",
    "    Board = np.zeros((n+2,m+2))\n",
    "    if initclickx == -1:\n",
    "        initclickx=randint(1, n)\n",
    "        initclicky=randint(1, m)\n",
    "    x=randint(1, n)\n",
    "    y=randint(1, m)\n",
    "    for i in range(0,num_mines):\n",
    "        while Board[x][y] == -1 or initclickx+radiussafe>x>initclickx-radiussafe and initclicky+radiussafe>y>initclicky-radiussafe:\n",
    "            x=randint(1, n)\n",
    "            y=randint(1, m)\n",
    "        Board[x][y]=-1\n",
    "    for i in range(1,len(Board)-1):\n",
    "        for j in range(1,len(Board.T)-1):\n",
    "            count=0;\n",
    "            for ii in range(-1,2):\n",
    "                for jj in range(-1,2):\n",
    "                    if -1.0 == Board[i+ii,j+jj]:\n",
    "                        count+=1\n",
    "            if Board[i][j] != -1:\n",
    "                Board[i][j]=count\n",
    "\n",
    "    \n",
    "    return (Board[1:n+1,1:m+1])"
   ]
  },
  {
   "cell_type": "code",
   "execution_count": 3,
   "metadata": {},
   "outputs": [],
   "source": [
    "def BoardtoRGB(Board):\n",
    "    BoardRGB=np.zeros((len(Board),len(Board.T),3))\n",
    "    for i in range(0,(len(Board))):\n",
    "        for j in range(0,(len(Board.T))):\n",
    "            if Board[i][j] == -2:\n",
    "                BoardRGB[i][j]=[0.2,0,8]\n",
    "            if Board[i][j] == -1:\n",
    "                BoardRGB[i][j]=[0,0,0]\n",
    "            if Board[i][j] == 0:\n",
    "                BoardRGB[i][j]=[1,1,1]\n",
    "            if Board[i][j] > 0:\n",
    "                BoardRGB[i][j]=[0.8,1 - (Board[i][j]-1)/8.0,0.4]\n",
    "            if Board[i][j] == 0.7:\n",
    "                BoardRGB[i][j]=[0.8,0.2,0.2]\n",
    "    return BoardRGB"
   ]
  },
  {
   "cell_type": "code",
   "execution_count": 4,
   "metadata": {},
   "outputs": [],
   "source": [
    "def SolveBoard(Mask,Board,clickx,clicky):\n",
    "    Mask = 10*np.ones((n,m))"
   ]
  },
  {
   "cell_type": "code",
   "execution_count": 5,
   "metadata": {},
   "outputs": [],
   "source": [
    "def CalcProbClick(Mask,MinesTotal = 10):\n",
    "    MaskPadded=np.zeros((len(Mask)+2,len(Mask.T)+2))\n",
    "    MaskPadded[1:len(Mask)+1,1:len(Mask.T)+1]=Mask\n",
    "    MaskProbMine=np.ones((len(Mask),len(Mask.T)))\n",
    "    temp = 0\n",
    "    \n",
    "    for i in range(0,len(Mask)):\n",
    "        for j in range(0,len(Mask.T)):\n",
    "            \n",
    "            if Mask[i][j] == -2:\n",
    "                temp = 0\n",
    "                \n",
    "                for ii in range(0,3):\n",
    "                    for jj in range(0,3):\n",
    "                        \n",
    "                        if MaskPadded[i+ii][j+jj] >= 1:\n",
    "                            temp+=0.001\n",
    "                            tempM=MaskPadded[i+ii][j+jj]\n",
    "                            tempC=0\n",
    "                            \n",
    "                            for mi in range(0,3):\n",
    "                                for mj in range(0,3):\n",
    "                                    \n",
    "                                    if MaskPadded[i+ii+mi-1][j+jj+mj-1] == 0.7:\n",
    "                                        tempM-=1\n",
    "                                    if MaskPadded[i+ii+mi-1][j+jj+mj-1] == -2:\n",
    "                                        tempC+=1\n",
    "                        else:\n",
    "                            tempM=0\n",
    "                            tempC=1\n",
    "                        \n",
    "                        if tempM<0:\n",
    "                            tempM=0\n",
    "                        temp+=tempM/tempC\n",
    "                \n",
    "            MaskProbMine[i][j] = temp\n",
    "    \n",
    "    FlagCount = (Mask == 0.7).sum()\n",
    "    CellCount = (Mask == -2).sum()\n",
    "    for i in range(0,len(Mask)):\n",
    "        for j in range(0,len(Mask.T)):\n",
    "            if Mask[i][j] != -2:\n",
    "                MaskProbMine[i][j] = 9\n",
    "            elif MaskProbMine[i][j] == 0:\n",
    "                MaskProbMine[i][j] = float(MinesTotal-FlagCount)/CellCount\n",
    "    \n",
    "    imgplot = plt.imshow(MaskProbMine.T,cmap='hot',interpolation='none')\n",
    "    plt.show()\n",
    "    \n",
    "    return MaskProbMine\n",
    "                                    \n",
    "                            \n",
    "                        \n",
    "                        "
   ]
  },
  {
   "cell_type": "code",
   "execution_count": 6,
   "metadata": {},
   "outputs": [],
   "source": [
    "def ClickFlag(Mask):\n",
    "    MaskPadded=np.zeros((len(Mask)+2,len(Mask.T)+2))\n",
    "    MaskPadded[1:len(Mask)+1,1:len(Mask.T)+1]=Mask\n",
    "    MaskNeighbourCount=np.zeros((len(Mask),len(Mask.T)))\n",
    "    temp = 0\n",
    "    \n",
    "    for i in range(0,len(Mask)):\n",
    "        for j in range(0,len(Mask.T)):\n",
    "            \n",
    "            temp=0\n",
    "            for ii in range(0,3):\n",
    "                for jj in range(0,3):\n",
    "                    if MaskPadded[i+ii][j+jj] == -2 or MaskPadded[i+ii][j+jj] == 0.7:\n",
    "                        if not ii==jj==1:\n",
    "                            temp+=1\n",
    "                        \n",
    "            MaskNeighbourCount[i][j]=temp\n",
    "    \n",
    "    MaskPaddedNeighbours=np.zeros((len(Mask)+2,len(Mask.T)+2))\n",
    "    MaskPaddedNeighbours[1:len(Mask)+1,1:len(Mask.T)+1]=MaskNeighbourCount  \n",
    "    \n",
    "    MaskUpdate=np.zeros((len(Mask),len(Mask.T)))\n",
    "    \n",
    "    for i in range(0,len(Mask)):\n",
    "        for j in range(0,len(Mask.T)):\n",
    "            if Mask[i][j] == MaskNeighbourCount[i][j] and Mask[i][j]>0:\n",
    "                for ii in range(0,3):\n",
    "                    for jj in range(0,3):\n",
    "                        if MaskPadded[i+ii][j+jj] == -2:\n",
    "                            MaskPadded[i+ii][j+jj]=0.7\n",
    "                \n",
    "                                      \n",
    "    return MaskPadded[1:len(Mask)+1,1:len(Mask.T)+1]\n",
    "    \n",
    "    "
   ]
  },
  {
   "cell_type": "code",
   "execution_count": 7,
   "metadata": {},
   "outputs": [],
   "source": [
    "def ClickSafe(Mask,Board):\n",
    "    MaskPadded=np.zeros((len(Mask)+2,len(Mask.T)+2))\n",
    "    MaskPadded[1:len(Mask)+1,1:len(Mask.T)+1]=Mask\n",
    "    MaskSatisfied=np.zeros((len(Mask),len(Mask.T)))\n",
    "    \n",
    "    for i in range(0,len(Mask)):\n",
    "        for j in range(0,len(Mask.T)):\n",
    "            \n",
    "            temp = 0\n",
    "            for ii in range(0,3):\n",
    "                for jj in range(0,3):\n",
    "                    if MaskPadded[i+ii][j+jj] == 0.7 and not ii==jj==1:\n",
    "                        temp+=1\n",
    "            \n",
    "            if temp == Mask[i][j]  and Mask[i][j] != 0:\n",
    "                MaskSatisfied[i][j]=1\n",
    "    \n",
    "    for i in range(0,len(Mask)):\n",
    "        for j in range(0,len(Mask.T)):\n",
    "            \n",
    "            if MaskSatisfied[i][j] == 1:\n",
    "                for ii in range(0,3):\n",
    "                    for jj in range(0,3):\n",
    "                        if MaskPadded[i+ii][j+jj] == -2:\n",
    "                            FloodFill(Mask,Board,i+ii-1,j+jj-1,0,True)\n",
    "                            \n",
    "    \n",
    "    return Mask\n",
    "    "
   ]
  },
  {
   "cell_type": "code",
   "execution_count": 8,
   "metadata": {},
   "outputs": [],
   "source": [
    "def MaskClick(PMask,Mask):\n",
    "    clickx=-1\n",
    "    clicky=-1\n",
    "    minyet=10\n",
    "    \n",
    "    for i in range(0,len(Mask)):\n",
    "        for j in range(0,len(Mask.T)):\n",
    "            if minyet >= PMask[i][j]:\n",
    "                clickx=i\n",
    "                clicky=j\n",
    "                minyet = PMask[i][j]\n",
    "    \n",
    "    return clickx,clicky\n"
   ]
  },
  {
   "cell_type": "code",
   "execution_count": 9,
   "metadata": {},
   "outputs": [],
   "source": [
    "def BombCheck(Mask,Board,x,y,fill,d=True,empty=0.0):\n",
    "    if Board[x][y] == -1:\n",
    "        print \"KABOOM\"\n",
    "        return False\n",
    "    else:\n",
    "        FloodFill(Mask,Board,x,y,fill,d,empty)\n",
    "        return True\n"
   ]
  },
  {
   "cell_type": "code",
   "execution_count": 10,
   "metadata": {},
   "outputs": [],
   "source": [
    "def FloodFill(Mask,Board,x,y,fill,d=True,empty=0.0):\n",
    "    if Board[x][y] > empty:\n",
    "        Mask[x][y] = Board[x][y]\n",
    "    if Board[x][y] == empty and Mask[x][y] == -2:     \n",
    "        Mask[x][y] = empty  \n",
    "        if x > 0:\n",
    "            FloodFill(Mask,Board,x-1,y,fill,d)\n",
    "        if x < len(Board)-1:\n",
    "            FloodFill(Mask,Board,x+1,y,fill,d)\n",
    "        if y > 0:\n",
    "            FloodFill(Mask,Board,x,y-1,fill,d)\n",
    "        if y < len(Board.T)-1:\n",
    "            FloodFill(Mask,Board,x,y+1,fill,d)"
   ]
  },
  {
   "cell_type": "code",
   "execution_count": 13,
   "metadata": {
    "scrolled": true
   },
   "outputs": [
    {
     "data": {
      "image/png": "[encoded data removed]",
      "text/plain": [
       "<matplotlib.figure.Figure at 0x7f95941cd790>"
      ]
     },
     "metadata": {},
     "output_type": "display_data"
    },
    {
     "data": {
      "image/png": "[encoded data removed]",
      "text/plain": [
       "<matplotlib.figure.Figure at 0x7f9594307f90>"
      ]
     },
     "metadata": {},
     "output_type": "display_data"
    },
    {
     "name": "stdout",
     "output_type": "stream",
     "text": [
      "F\n"
     ]
    },
    {
     "data": {
      "image/png": "[encoded data removed]",
      "text/plain": [
       "<matplotlib.figure.Figure at 0x7f9593c44ad0>"
      ]
     },
     "metadata": {},
     "output_type": "display_data"
    },
    {
     "name": "stdout",
     "output_type": "stream",
     "text": [
      "C\n"
     ]
    },
    {
     "data": {
      "image/png": "[encoded data removed]",
      "text/plain": [
       "<matplotlib.figure.Figure at 0x7f9593ff5550>"
      ]
     },
     "metadata": {},
     "output_type": "display_data"
    },
    {
     "name": "stdout",
     "output_type": "stream",
     "text": [
      "F\n"
     ]
    },
    {
     "data": {
      "image/png": "[encoded data removed]",
      "text/plain": [
       "<matplotlib.figure.Figure at 0x7f959413c8d0>"
      ]
     },
     "metadata": {},
     "output_type": "display_data"
    },
    {
     "name": "stdout",
     "output_type": "stream",
     "text": [
      "C\n"
     ]
    },
    {
     "data": {
      "image/png": "[encoded data removed]",
      "text/plain": [
       "<matplotlib.figure.Figure at 0x7f95940e3f50>"
      ]
     },
     "metadata": {},
     "output_type": "display_data"
    },
    {
     "name": "stdout",
     "output_type": "stream",
     "text": [
      "F\n"
     ]
    },
    {
     "data": {
      "image/png": "[encoded data removed]",
      "text/plain": [
       "<matplotlib.figure.Figure at 0x7f9593bfb2d0>"
      ]
     },
     "metadata": {},
     "output_type": "display_data"
    },
    {
     "name": "stdout",
     "output_type": "stream",
     "text": [
      "C\n"
     ]
    },
    {
     "data": {
      "image/png": "[encoded data removed]",
      "text/plain": [
       "<matplotlib.figure.Figure at 0x7f959428ce50>"
      ]
     },
     "metadata": {},
     "output_type": "display_data"
    },
    {
     "name": "stdout",
     "output_type": "stream",
     "text": [
      "F\n"
     ]
    },
    {
     "data": {
      "image/png": "[encoded data removed]",
      "text/plain": [
       "<matplotlib.figure.Figure at 0x7f9593e08910>"
      ]
     },
     "metadata": {},
     "output_type": "display_data"
    },
    {
     "name": "stdout",
     "output_type": "stream",
     "text": [
      "C\n"
     ]
    },
    {
     "data": {
      "image/png": "[encoded data removed]",
      "text/plain": [
       "<matplotlib.figure.Figure at 0x7f95941dead0>"
      ]
     },
     "metadata": {},
     "output_type": "display_data"
    },
    {
     "name": "stdout",
     "output_type": "stream",
     "text": [
      "F\n"
     ]
    },
    {
     "data": {
      "image/png": "[encoded data removed]",
      "text/plain": [
       "<matplotlib.figure.Figure at 0x7f959647e050>"
      ]
     },
     "metadata": {},
     "output_type": "display_data"
    },
    {
     "name": "stdout",
     "output_type": "stream",
     "text": [
      "C\n"
     ]
    },
    {
     "data": {
      "image/png": "[encoded data removed]",
      "text/plain": [
       "<matplotlib.figure.Figure at 0x7f95943776d0>"
      ]
     },
     "metadata": {},
     "output_type": "display_data"
    },
    {
     "name": "stdout",
     "output_type": "stream",
     "text": [
      "F\n"
     ]
    },
    {
     "data": {
      "image/png": "[encoded data removed]",
      "text/plain": [
       "<matplotlib.figure.Figure at 0x7f9594290bd0>"
      ]
     },
     "metadata": {},
     "output_type": "display_data"
    },
    {
     "name": "stdout",
     "output_type": "stream",
     "text": [
      "C\n"
     ]
    },
    {
     "data": {
      "image/png": "[encoded data removed]",
      "text/plain": [
       "<matplotlib.figure.Figure at 0x7f959408a990>"
      ]
     },
     "metadata": {},
     "output_type": "display_data"
    },
    {
     "name": "stdout",
     "output_type": "stream",
     "text": [
      "F\n"
     ]
    },
    {
     "data": {
      "image/png": "[encoded data removed]",
      "text/plain": [
       "<matplotlib.figure.Figure at 0x7f959423b5d0>"
      ]
     },
     "metadata": {},
     "output_type": "display_data"
    },
    {
     "name": "stdout",
     "output_type": "stream",
     "text": [
      "C\n"
     ]
    },
    {
     "data": {
      "image/png": "[encoded data removed]",
      "text/plain": [
       "<matplotlib.figure.Figure at 0x7f9593eebad0>"
      ]
     },
     "metadata": {},
     "output_type": "display_data"
    },
    {
     "name": "stdout",
     "output_type": "stream",
     "text": [
      "YOU WIN\n"
     ]
    },
    {
     "data": {
      "image/png": "[encoded data removed]",
      "text/plain": [
       "<matplotlib.figure.Figure at 0x7f9593d7f990>"
      ]
     },
     "metadata": {},
     "output_type": "display_data"
    }
   ],
   "source": [
    "n=10\n",
    "m=10\n",
    "mines=12\n",
    "clickx=n//2\n",
    "clicky=m//2\n",
    "Board = PopulateBoard(n,m,mines,clickx+1,clicky+1)\n",
    "\n",
    "Mask = np.ones((n,m))*-2\n",
    "MaskProbability = np.zeros((n,m))\n",
    "\n",
    "imgplot = plt.imshow(BoardtoRGB(Board.T),interpolation='none')\n",
    "plt.show()\n",
    "\n",
    "FloodFill(Mask,Board,clickx,clicky,0,True)\n",
    "\n",
    "imgplot = plt.imshow(BoardtoRGB(Mask.T),interpolation='none')\n",
    "plt.show()\n",
    "\n",
    "deathflag = True\n",
    "\n",
    "while deathflag:\n",
    "    \n",
    "    \n",
    "    MaskSave=Mask\n",
    "    \n",
    "    print 'F'\n",
    "    Mask = ClickFlag(Mask)\n",
    "    imgplot = plt.imshow(BoardtoRGB(Mask.T),interpolation='none')\n",
    "    plt.show()\n",
    "    print 'C'\n",
    "    Mask = ClickSafe(Mask,Board)\n",
    "    imgplot = plt.imshow(BoardtoRGB(Mask.T),interpolation='none')\n",
    "    plt.show()\n",
    "    \n",
    "    if np.array_equal(Mask,MaskSave):\n",
    "        PMask=CalcProbClick(Mask,mines)\n",
    "        clickx,clicky=MaskClick(PMask,Mask)\n",
    "        print clickx,clicky\n",
    "        deathflag = BombCheck(Mask,Board,clickx,clicky,0,deathflag)\n",
    "      \n",
    "    \n",
    "    if -2 not in Mask:\n",
    "        print \"YOU WIN\"\n",
    "        imgplot = plt.imshow(Mask.T,interpolation='none',cmap='YlGnBu')\n",
    "        plt.show()\n",
    "        deathflag=False\n",
    "\n",
    "    \n",
    "    \n",
    "    \n",
    "    \n",
    "        \n",
    "        \n",
    "\n"
   ]
  },
  {
   "cell_type": "code",
   "execution_count": null,
   "metadata": {},
   "outputs": [],
   "source": []
  },
  {
   "cell_type": "code",
   "execution_count": null,
   "metadata": {
    "collapsed": true
   },
   "outputs": [],
   "source": []
  }
 ],
 "metadata": {
  "kernelspec": {
   "display_name": "Python 2",
   "language": "python",
   "name": "python2"
  },
  "language_info": {
   "codemirror_mode": {
    "name": "ipython",
    "version": 2
   },
   "file_extension": ".py",
   "mimetype": "text/x-python",
   "name": "python",
   "nbconvert_exporter": "python",
   "pygments_lexer": "ipython2",
   "version": "2.7.12"
  }
 },
 "nbformat": 4,
 "nbformat_minor": 2
}
